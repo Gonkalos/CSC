{
 "metadata": {
  "language_info": {
   "codemirror_mode": {
    "name": "ipython",
    "version": 3
   },
   "file_extension": ".py",
   "mimetype": "text/x-python",
   "name": "python",
   "nbconvert_exporter": "python",
   "pygments_lexer": "ipython3",
   "version": "3.7.10-final"
  },
  "orig_nbformat": 2,
  "kernelspec": {
   "name": "python3",
   "display_name": "Python 3.7.10 64-bit ('mlfa_csc': conda)",
   "metadata": {
    "interpreter": {
     "hash": "aa27b09b193c55e58c45b0bb2174b65c6882c968152432f076a887e82ca0b074"
    }
   }
  }
 },
 "nbformat": 4,
 "nbformat_minor": 2,
 "cells": [
  {
   "source": [
    "## Task 1"
   ],
   "cell_type": "markdown",
   "metadata": {}
  },
  {
   "cell_type": "code",
   "execution_count": 1,
   "metadata": {},
   "outputs": [
    {
     "output_type": "stream",
     "name": "stdout",
     "text": [
      "TensorFlow version:  2.3.0\nIs eager execution enabled?  True\n"
     ]
    }
   ],
   "source": [
    "import tensorflow as tf\n",
    "import numpy as np\n",
    "import random\n",
    "\n",
    "print('TensorFlow version: ', tf.__version__)\n",
    "print('Is eager execution enabled? ', tf.executing_eagerly())"
   ]
  },
  {
   "source": [
    "Criar dois tensors de rank 0, a e b, de qualquer valor. Retornar a+b se a>b senão a-b."
   ],
   "cell_type": "markdown",
   "metadata": {}
  },
  {
   "cell_type": "code",
   "execution_count": 2,
   "metadata": {},
   "outputs": [
    {
     "output_type": "stream",
     "name": "stdout",
     "text": [
      "a = 4 , b = 1\n",
      "c = 5\n"
     ]
    }
   ],
   "source": [
    "a = tf.constant(random.randint(1, 10))\n",
    "b = tf.constant(random.randint(1, 10))\n",
    "print('a =', a.numpy(), ', b =', b.numpy())\n",
    "if tf.math.greater(a, b):\n",
    "    c = tf.add(a, b)\n",
    "else:\n",
    "    c = tf.subtract(a, b)\n",
    "print('c =', c.numpy())"
   ]
  },
  {
   "source": [
    "Criar dois tensors de rank 0, a e b, de qualquer valor aleatório entre -1 e 1. Retornar a+b se a<b; a-b se a>b; e 0 como default."
   ],
   "cell_type": "markdown",
   "metadata": {}
  },
  {
   "cell_type": "code",
   "execution_count": 3,
   "metadata": {},
   "outputs": [
    {
     "output_type": "stream",
     "name": "stdout",
     "text": [
      "a = -0.49383882 , b = -0.19501011\nc = -0.6888489\n"
     ]
    }
   ],
   "source": [
    "a = tf.constant(random.uniform(-1, 1))\n",
    "b = tf.constant(random.uniform(-1, 1))\n",
    "print('a =', a.numpy(), ', b =', b.numpy())\n",
    "c = tf.constant(0)\n",
    "if tf.math.greater(a, b):\n",
    "     c = tf.subtract(a, b)\n",
    "else:\n",
    "    c = tf.add(a, b)\n",
    "print('c =', c.numpy())"
   ]
  },
  {
   "source": [
    "Criar um tensor do tipo variável, a, com o valor [[1,2,0], [3,0,2]], e um tensor de zeros, b, com o mesmo shape de a (shape=(2, 3)). Retornar um tensor booleano com o valor True para cada elemento de a igual a b."
   ],
   "cell_type": "markdown",
   "metadata": {}
  },
  {
   "cell_type": "code",
   "execution_count": 4,
   "metadata": {},
   "outputs": [
    {
     "output_type": "stream",
     "name": "stdout",
     "text": [
      "a[0][2]: tf.Tensor(True, shape=(), dtype=bool)\na[1][1]: tf.Tensor(True, shape=(), dtype=bool)\n"
     ]
    }
   ],
   "source": [
    "a = tf.constant([[1, 2, 0], [3, 0, 2]])\n",
    "b = tf.zeros([2, 3], tf.int32)\n",
    "for i in range(0, a.shape[0]):\n",
    "    for j in range(0, a.shape[1]):\n",
    "        if tf.math.equal(a[i][j], b[i][j]):\n",
    "            c = tf.constant(True)\n",
    "            print('a[%s][%s]: %s' % (i, j, c))"
   ]
  },
  {
   "source": [
    "Criar um tensor 1d, a, com 20 elementos compreendidos entre 1 e 10. Retornar um tensor com os elementos de a cujo valor é superior a 7."
   ],
   "cell_type": "markdown",
   "metadata": {}
  },
  {
   "cell_type": "code",
   "execution_count": 12,
   "metadata": {},
   "outputs": [
    {
     "output_type": "stream",
     "name": "stdout",
     "text": [
      "tf.Tensor([2 4 4 1 9 6 5 5 7 1 4 2 8 2 2 3 2 9 4 4], shape=(20,), dtype=int64)\ntf.Tensor([9 8 9], shape=(3,), dtype=int64)\n"
     ]
    }
   ],
   "source": [
    "a = tf.constant(np.random.randint(1, 10, size = 20))\n",
    "print(a)\n",
    "b = tf.constant(a[a > 7])\n",
    "print(b)"
   ]
  }
 ]
}
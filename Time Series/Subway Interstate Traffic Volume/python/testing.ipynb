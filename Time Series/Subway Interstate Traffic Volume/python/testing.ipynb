{
 "metadata": {
  "language_info": {
   "codemirror_mode": {
    "name": "ipython",
    "version": 3
   },
   "file_extension": ".py",
   "mimetype": "text/x-python",
   "name": "python",
   "nbconvert_exporter": "python",
   "pygments_lexer": "ipython3",
   "version": "3.8.8"
  },
  "orig_nbformat": 2,
  "kernelspec": {
   "name": "python388jvsc74a57bd0d6d9af76ce783ba46c0f59e9760cd65838613e0b9940b133eb0a2e41cdce7b3b",
   "display_name": "Python 3.8.8 64-bit ('CSC_Clean_': conda)"
  },
  "metadata": {
   "interpreter": {
    "hash": "d6d9af76ce783ba46c0f59e9760cd65838613e0b9940b133eb0a2e41cdce7b3b"
   }
  }
 },
 "nbformat": 4,
 "nbformat_minor": 2,
 "cells": [
  {
   "source": [
    "## Imports"
   ],
   "cell_type": "markdown",
   "metadata": {}
  },
  {
   "cell_type": "code",
   "execution_count": 61,
   "metadata": {},
   "outputs": [],
   "source": [
    "# univariative\n",
    "from metro_univariative2 import loadData as dataUni\n",
    "from metro_univariative2 import splitData\n",
    "from metro_univariative2 import rmse\n",
    "from metro_univariative2 import to_supervised as to_supervised_uni\n",
    "from metro_univariative2 import createModel as lstmUni\n",
    "from metro_univariative2 import createModel2 as gruUni\n",
    "from metro_univariative2 import createModel2 as cnnUni\n",
    "\n",
    "# multivariative\n",
    "from metro_multivariative import loadData as dataMulti\n",
    "from keras.preprocessing.sequence import TimeseriesGenerator\n",
    "# Outros\n",
    "import pandas as pd\n",
    "import numpy as np\n",
    "from sklearn.preprocessing import MinMaxScaler\n",
    "import tensorflow as tf\n",
    "import csv\n",
    "from pickle import load"
   ]
  },
  {
   "cell_type": "code",
   "execution_count": 62,
   "metadata": {},
   "outputs": [],
   "source": [
    "# for replicability purposes\n",
    "tf.random.set_seed(91195003) \n",
    "np.random.seed(91190530) \n",
    "# for an easy reset backend session state \n",
    "tf.keras.backend.clear_session()"
   ]
  },
  {
   "source": [
    "## Preparação geral (Univariante)"
   ],
   "cell_type": "markdown",
   "metadata": {}
  },
  {
   "cell_type": "code",
   "execution_count": 18,
   "metadata": {},
   "outputs": [],
   "source": [
    "# carregar dados\n",
    "data = dataUni()\n",
    "# normalizar dados\n",
    "scalertraffic = load(open('../models/scalerTraffic.pkl', 'rb'))\n",
    "data[['traffic_volume']] = scalertraffic.transform(data[['traffic_volume']])\n",
    "# dividir dados\n",
    "train_df, val_df, test_df = splitData(data, 0.7, 0.2)"
   ]
  },
  {
   "source": [
    "### Modelo Univariante 1 (LSTM)"
   ],
   "cell_type": "markdown",
   "metadata": {}
  },
  {
   "cell_type": "code",
   "execution_count": 9,
   "metadata": {},
   "outputs": [
    {
     "output_type": "stream",
     "name": "stdout",
     "text": [
      "Model: \"sequential_81\"\n",
      "_________________________________________________________________\n",
      "Layer (type)                 Output Shape              Param #   \n",
      "=================================================================\n",
      "lstm_81 (LSTM)               (None, 32)                4352      \n",
      "_________________________________________________________________\n",
      "dense_162 (Dense)            (None, 32)                1056      \n",
      "_________________________________________________________________\n",
      "dense_163 (Dense)            (None, 1)                 33        \n",
      "=================================================================\n",
      "Total params: 5,441\n",
      "Trainable params: 5,441\n",
      "Non-trainable params: 0\n",
      "_________________________________________________________________\n",
      "278/278 [==============================] - 1s 2ms/step - loss: 0.0445 - mean_absolute_error: 0.0335 - rmse: 0.0444\n"
     ]
    },
    {
     "output_type": "execute_result",
     "data": {
      "text/plain": [
       "[0.044457338750362396, 0.03350599855184555, 0.04441721737384796]"
      ]
     },
     "metadata": {},
     "execution_count": 9
    }
   ],
   "source": [
    "# carregar parametros\n",
    "# config = [neurónios, timesteps, batchsize, learning rate]\n",
    "file_CSV = open('../models/uni_config_lstm.csv')\n",
    "data_CSV = csv.reader(file_CSV)\n",
    "config = list(data_CSV)\n",
    "config = config[0]\n",
    "\n",
    "# to supervised\n",
    "testX, testy  = to_supervised_uni(val_df, int(config[1]))\n",
    "\n",
    "# create model\n",
    "model = tf.keras.models.load_model('../models/uni_lstm.h5', custom_objects={'rmse': rmse})\n",
    "model.summary()\n",
    "model.evaluate(testX,testy)"
   ]
  },
  {
   "source": [
    "### Modelo Univariante 2 (GRU)"
   ],
   "cell_type": "markdown",
   "metadata": {}
  },
  {
   "cell_type": "code",
   "execution_count": 10,
   "metadata": {},
   "outputs": [
    {
     "output_type": "stream",
     "name": "stdout",
     "text": [
      "Model: \"sequential_36\"\n",
      "_________________________________________________________________\n",
      "Layer (type)                 Output Shape              Param #   \n",
      "=================================================================\n",
      "gru_36 (GRU)                 (None, 32)                3360      \n",
      "_________________________________________________________________\n",
      "dense_72 (Dense)             (None, 32)                1056      \n",
      "_________________________________________________________________\n",
      "dense_73 (Dense)             (None, 1)                 33        \n",
      "=================================================================\n",
      "Total params: 4,449\n",
      "Trainable params: 4,449\n",
      "Non-trainable params: 0\n",
      "_________________________________________________________________\n",
      "278/278 [==============================] - 0s 2ms/step - loss: 0.0401 - mean_absolute_error: 0.0291 - rmse: 0.0401\n"
     ]
    },
    {
     "output_type": "execute_result",
     "data": {
      "text/plain": [
       "[0.040088292211294174, 0.029069960117340088, 0.040066950023174286]"
      ]
     },
     "metadata": {},
     "execution_count": 10
    }
   ],
   "source": [
    "# carregar parametros\n",
    "file_CSV = open('../models/uni_config_gru.csv')\n",
    "data_CSV = csv.reader(file_CSV)\n",
    "config = list(data_CSV)\n",
    "config = config[0]\n",
    "\n",
    "# to supervised\n",
    "testX, testy  = to_supervised_uni(val_df, int(config[1]))\n",
    "\n",
    "# create model\n",
    "model = tf.keras.models.load_model('../models/uni_gru.h5', custom_objects={'rmse': rmse})\n",
    "model.summary()\n",
    "model.evaluate(testX,testy)"
   ]
  },
  {
   "source": [
    "### Modelo Univariante 3 (CNN)"
   ],
   "cell_type": "markdown",
   "metadata": {}
  },
  {
   "cell_type": "code",
   "execution_count": 20,
   "metadata": {},
   "outputs": [
    {
     "output_type": "stream",
     "name": "stdout",
     "text": [
      "Model: \"cnn_model\"\n",
      "_________________________________________________________________\n",
      "Layer (type)                 Output Shape              Param #   \n",
      "=================================================================\n",
      "input_13 (InputLayer)        [(None, 24, 1)]           0         \n",
      "_________________________________________________________________\n",
      "conv1d_12 (Conv1D)           (None, 20, 16)            96        \n",
      "_________________________________________________________________\n",
      "average_pooling1d_12 (Averag (None, 20, 8)             0         \n",
      "_________________________________________________________________\n",
      "flatten_12 (Flatten)         (None, 160)               0         \n",
      "_________________________________________________________________\n",
      "dense_24 (Dense)             (None, 16)                2576      \n",
      "_________________________________________________________________\n",
      "dense_25 (Dense)             (None, 1)                 17        \n",
      "=================================================================\n",
      "Total params: 2,689\n",
      "Trainable params: 2,689\n",
      "Non-trainable params: 0\n",
      "_________________________________________________________________\n",
      "277/277 [==============================] - 0s 1ms/step - loss: 0.0463 - mean_absolute_error: 0.0335 - rmse: 0.0463\n"
     ]
    },
    {
     "output_type": "execute_result",
     "data": {
      "text/plain": [
       "[0.04632953926920891, 0.03353754058480263, 0.046320319175720215]"
      ]
     },
     "metadata": {},
     "execution_count": 20
    }
   ],
   "source": [
    "# carregar parametros\n",
    "file_CSV = open('../models/uni_config_cnn.csv')\n",
    "data_CSV = csv.reader(file_CSV)\n",
    "config = list(data_CSV)\n",
    "config = config[0]\n",
    "\n",
    "# to supervised\n",
    "testX, testy  = to_supervised_uni(val_df, int(config[1]))\n",
    "\n",
    "# create model\n",
    "model = tf.keras.models.load_model('../models/uni_cnn.h5', custom_objects={'rmse': rmse})\n",
    "model.summary()\n",
    "model.evaluate(testX,testy)"
   ]
  },
  {
   "source": [
    "## Preparação geral (Multivariante)"
   ],
   "cell_type": "markdown",
   "metadata": {}
  },
  {
   "cell_type": "code",
   "execution_count": 63,
   "metadata": {},
   "outputs": [],
   "source": [
    "# carregar dados\n",
    "data = dataMulti()\n",
    "# normalizar dados\n",
    "scalerTemp = load(open('../models/scalerTemp.pkl', 'rb'))\n",
    "data[['temp']] = scalertraffic.transform(data[['temp']])\n",
    "\n",
    "scalerClouds = load(open('../models/scalerClouds.pkl', 'rb'))\n",
    "data[['clouds_all']] = scalertraffic.transform(data[['clouds_all']])\n",
    "\n",
    "scalertraffic = load(open('../models/scalerTraffic.pkl', 'rb'))\n",
    "data[['traffic_volume']] = scalertraffic.transform(data[['traffic_volume']])\n",
    "# dividir dados\n",
    "train_df, val_df, test_df = splitData(data, 0.7, 0.2)"
   ]
  },
  {
   "source": [
    "### Modelo 1 Multivariante (LSTM)"
   ],
   "cell_type": "markdown",
   "metadata": {}
  },
  {
   "cell_type": "code",
   "execution_count": 64,
   "metadata": {},
   "outputs": [
    {
     "output_type": "stream",
     "name": "stdout",
     "text": [
      "Model: \"sequential_81\"\n",
      "_________________________________________________________________\n",
      "Layer (type)                 Output Shape              Param #   \n",
      "=================================================================\n",
      "lstm_81 (LSTM)               (None, 16)                1408      \n",
      "_________________________________________________________________\n",
      "dense_162 (Dense)            (None, 16)                272       \n",
      "_________________________________________________________________\n",
      "dense_163 (Dense)            (None, 1)                 17        \n",
      "=================================================================\n",
      "Total params: 1,697\n",
      "Trainable params: 1,697\n",
      "Non-trainable params: 0\n",
      "_________________________________________________________________\n",
      "70/70 [==============================] - 0s 3ms/step - loss: 0.0448 - mae: 0.0344 - rmse: 0.0450\n"
     ]
    },
    {
     "output_type": "execute_result",
     "data": {
      "text/plain": [
       "[0.04475574567914009, 0.034379661083221436, 0.04499175772070885]"
      ]
     },
     "metadata": {},
     "execution_count": 64
    }
   ],
   "source": [
    "# carregar parametros\n",
    "# config = [neurónios, timesteps, batchsize, learning rate]\n",
    "file_CSV = open('../models/multi_config_lstm.csv')\n",
    "data_CSV = csv.reader(file_CSV)\n",
    "config = list(data_CSV)\n",
    "config = config[0]\n",
    "\n",
    "# to superviseddata1 = train_df\n",
    "data1 = test_df\n",
    "targets = data1[:,3]\n",
    "dataTest = TimeseriesGenerator(data1, targets,\n",
    "                        length=int(config[1]),\n",
    "                        batch_size=int(config[2]))\n",
    "# create model\n",
    "model = tf.keras.models.load_model('../models/multi_lstm.h5', custom_objects={'rmse': rmse})\n",
    "model.compile(\n",
    "    loss = rmse, \n",
    "    optimizer = tf.keras.optimizers.Adam(learning_rate=float(config[3])), \n",
    "    metrics = ['mae',rmse])\n",
    "model.summary()\n",
    "model.evaluate(dataTest)"
   ]
  },
  {
   "source": [
    "### Modelo 2 Multivariante (GRU)"
   ],
   "cell_type": "markdown",
   "metadata": {}
  },
  {
   "cell_type": "code",
   "execution_count": 65,
   "metadata": {},
   "outputs": [
    {
     "output_type": "stream",
     "name": "stdout",
     "text": [
      "Model: \"sequential_163\"\n",
      "_________________________________________________________________\n",
      "Layer (type)                 Output Shape              Param #   \n",
      "=================================================================\n",
      "gru_81 (GRU)                 (None, 64)                13632     \n",
      "_________________________________________________________________\n",
      "dense_326 (Dense)            (None, 64)                4160      \n",
      "_________________________________________________________________\n",
      "dense_327 (Dense)            (None, 1)                 65        \n",
      "=================================================================\n",
      "Total params: 17,857\n",
      "Trainable params: 17,857\n",
      "Non-trainable params: 0\n",
      "_________________________________________________________________\n",
      "70/70 [==============================] - 0s 3ms/step - loss: 0.0779 - mae: 0.0652 - rmse: 0.0777\n"
     ]
    },
    {
     "output_type": "execute_result",
     "data": {
      "text/plain": [
       "[0.07789655774831772, 0.06519317626953125, 0.07770460844039917]"
      ]
     },
     "metadata": {},
     "execution_count": 65
    }
   ],
   "source": [
    "# carregar parametros\n",
    "# config = [neurónios, timesteps, batchsize, learning rate]\n",
    "file_CSV = open('../models/multi_config_gru.csv')\n",
    "data_CSV = csv.reader(file_CSV)\n",
    "config = list(data_CSV)\n",
    "config = config[0]\n",
    "\n",
    "# to superviseddata1 = train_df\n",
    "data1 = test_df\n",
    "targets = data1[:,3]\n",
    "dataTest = TimeseriesGenerator(data1, targets,\n",
    "                        length=int(config[1]),\n",
    "                        batch_size=int(config[2]))\n",
    "# create model\n",
    "model = tf.keras.models.load_model('../models/multi_gru.h5', custom_objects={'rmse': rmse})\n",
    "model.compile(\n",
    "    loss = rmse, \n",
    "    optimizer = tf.keras.optimizers.Adam(learning_rate=float(config[3])), \n",
    "    metrics = ['mae',rmse])\n",
    "model.summary()\n",
    "model.evaluate(dataTest)"
   ]
  },
  {
   "source": [
    "### Modelo 3 Multivariante (CNN)"
   ],
   "cell_type": "markdown",
   "metadata": {}
  },
  {
   "cell_type": "code",
   "execution_count": 66,
   "metadata": {},
   "outputs": [
    {
     "output_type": "stream",
     "name": "stdout",
     "text": [
      "Model: \"cnn_model\"\n",
      "_________________________________________________________________\n",
      "Layer (type)                 Output Shape              Param #   \n",
      "=================================================================\n",
      "input_2 (InputLayer)         [(None, 24, 5)]           0         \n",
      "_________________________________________________________________\n",
      "conv1d_1 (Conv1D)            (None, 20, 16)            416       \n",
      "_________________________________________________________________\n",
      "average_pooling1d_1 (Average (None, 20, 8)             0         \n",
      "_________________________________________________________________\n",
      "flatten_1 (Flatten)          (None, 160)               0         \n",
      "_________________________________________________________________\n",
      "dense_2 (Dense)              (None, 16)                2576      \n",
      "_________________________________________________________________\n",
      "dense_3 (Dense)              (None, 1)                 17        \n",
      "=================================================================\n",
      "Total params: 3,009\n",
      "Trainable params: 3,009\n",
      "Non-trainable params: 0\n",
      "_________________________________________________________________\n",
      "35/35 [==============================] - 0s 2ms/step - loss: 0.0704 - mean_absolute_error: 0.0543 - rmse: 0.0704\n"
     ]
    },
    {
     "output_type": "execute_result",
     "data": {
      "text/plain": [
       "[0.07041484117507935, 0.05430785194039345, 0.07040555030107498]"
      ]
     },
     "metadata": {},
     "execution_count": 66
    }
   ],
   "source": [
    "# carregar parametros\n",
    "# config = [neurónios, timesteps, batchsize, learning rate]\n",
    "file_CSV = open('../models/multi_config_cnn.csv')\n",
    "data_CSV = csv.reader(file_CSV)\n",
    "config = list(data_CSV)\n",
    "config = config[0]\n",
    "\n",
    "# to superviseddata1 = train_df\n",
    "data1 = test_df\n",
    "targets = data1[:,3]\n",
    "dataTest = TimeseriesGenerator(data1, targets,\n",
    "                        length=int(config[1]))\n",
    "# create model\n",
    "model = tf.keras.models.load_model('../models/multi_cnn.h5', custom_objects={'rmse': rmse})\n",
    "model.summary()\n",
    "model.evaluate(dataTest)"
   ]
  },
  {
   "cell_type": "code",
   "execution_count": null,
   "metadata": {},
   "outputs": [],
   "source": []
  }
 ]
}